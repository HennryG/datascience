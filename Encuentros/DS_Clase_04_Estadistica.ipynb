{
 "cells": [
  {
   "cell_type": "code",
   "execution_count": 8,
   "metadata": {},
   "outputs": [],
   "source": [
    "import numpy as np"
   ]
  },
  {
   "cell_type": "code",
   "execution_count": 18,
   "metadata": {},
   "outputs": [],
   "source": [
    "import matplotlib.pyplot as plt"
   ]
  },
  {
   "cell_type": "code",
   "execution_count": 23,
   "metadata": {},
   "outputs": [
    {
     "data": {
      "text/plain": [
       "array([4, 1, 4, ..., 2, 1, 5])"
      ]
     },
     "execution_count": 23,
     "metadata": {},
     "output_type": "execute_result"
    }
   ],
   "source": [
    "muestras = np.random.randint(1, 6, size=3000)\n",
    "muestras"
   ]
  },
  {
   "cell_type": "code",
   "execution_count": 24,
   "metadata": {},
   "outputs": [
    {
     "data": {
      "image/png": "[encoded data removed]",
      "text/plain": [
       "<Figure size 432x288 with 1 Axes>"
      ]
     },
     "metadata": {},
     "output_type": "display_data"
    }
   ],
   "source": [
    "plt.hist(muestras,  bins = 6)\n",
    "plt.grid()\n",
    "plt.show()"
   ]
  },
  {
   "cell_type": "code",
   "execution_count": 25,
   "metadata": {},
   "outputs": [
    {
     "data": {
      "text/plain": [
       "3.0"
      ]
     },
     "execution_count": 25,
     "metadata": {},
     "output_type": "execute_result"
    }
   ],
   "source": [
    "np.median(muestras)"
   ]
  },
  {
   "cell_type": "code",
   "execution_count": 26,
   "metadata": {},
   "outputs": [
    {
     "data": {
      "text/plain": [
       "1.4086683625167264"
      ]
     },
     "execution_count": 26,
     "metadata": {},
     "output_type": "execute_result"
    }
   ],
   "source": [
    "np.std(muestras)"
   ]
  },
  {
   "cell_type": "code",
   "execution_count": 28,
   "metadata": {},
   "outputs": [],
   "source": [
    "#a.  Crear un arreglo que asigne probabilidaes a cada \n",
    "probabilidades = np.array([1,1,1,1,1,6])\n",
    "probabilidades = probabilidades / probabilidades.sum()"
   ]
  },
  {
   "cell_type": "code",
   "execution_count": 29,
   "metadata": {},
   "outputs": [],
   "source": [
    "muestras_dado_cargado = np.random.choice([1,2,3,4,5,6], p = probabilidades, size = 1000)"
   ]
  },
  {
   "cell_type": "code",
   "execution_count": 30,
   "metadata": {},
   "outputs": [
    {
     "name": "stdout",
     "output_type": "stream",
     "text": [
      "4.636 [6 6 6 1 5 5 3 6 6 4 6 1 2 2 2 3 6 4 3 1 6 6 1 2 4 3 2 6 6 3 6 3 4 2 6 2 6\n",
      " 1 2 6 4 6 3 5 6 6 6 6 6 5 6 5 1 4 5 6 6 5 6 6 5 6 5 6 2 6 6 2 5 6 3 6 2 1\n",
      " 6 4 6 6 6 6 5 6 4 6 1 3 3 6 1 6 6 2 5 6 2 6 2 6 6 6 4 3 6 6 6 6 6 6 6 6 5\n",
      " 4 6 5 6 5 1 6 6 6 3 2 6 2 6 2 5 2 1 6 3 6 6 6 4 4 1 3 6 1 3 1 6 4 1 6 1 1\n",
      " 6 3 6 3 2 1 3 6 6 4 3 2 6 4 6 1 4 6 6 1 6 6 3 6 6 6 6 3 6 5 4 2 6 6 5 6 4\n",
      " 6 1 1 6 6 3 6 6 6 6 6 6 2 6 6 6 6 2 2 5 6 6 6 6 5 2 6 6 1 6 6 6 6 6 6 6 6\n",
      " 6 6 6 4 5 5 6 5 6 6 6 6 6 6 6 6 3 1 6 3 6 4 3 6 5 6 4 3 6 5 2 6 3 4 3 2 1\n",
      " 3 2 6 4 6 2 5 2 5 6 6 4 3 6 6 6 6 6 6 6 6 6 6 3 6 3 6 6 6 6 6 1 2 5 6 4 6\n",
      " 3 5 6 6 3 6 6 3 6 3 6 4 6 2 1 2 3 6 6 6 6 5 6 1 3 6 4 3 3 4 5 6 3 2 6 6 4\n",
      " 1 6 6 1 6 6 6 6 3 6 6 4 4 5 3 6 2 5 6 4 2 5 1 6 6 1 5 6 5 6 2 4 6 4 6 6 2\n",
      " 6 6 4 6 6 1 6 4 6 2 6 6 6 6 2 2 6 1 6 6 6 4 1 4 6 2 1 6 5 1 5 6 6 5 6 6 6\n",
      " 4 4 2 6 2 6 6 1 5 1 5 6 6 6 6 4 2 6 1 6 4 5 6 6 6 6 6 6 5 3 4 5 3 6 6 3 2\n",
      " 6 6 6 5 6 4 5 6 6 4 6 6 6 1 6 6 5 6 6 4 3 6 6 6 6 4 2 6 6 6 5 6 6 1 5 6 5\n",
      " 2 1 6 2 2 6 2 2 6 6 6 6 6 2 6 6 3 6 6 3 6 6 6 6 6 2 1 3 6 6 6 2 6 6 6 6 6\n",
      " 1 5 4 6 6 4 6 3 6 1 6 6 2 6 1 5 6 6 3 4 6 1 6 6 6 6 1 6 6 3 2 6 6 6 6 6 1\n",
      " 2 6 1 1 4 5 2 3 4 1 6 6 1 6 6 5 5 1 4 4 6 6 6 6 6 4 6 6 2 6 5 6 1 6 6 6 6\n",
      " 1 3 6 1 6 6 4 3 2 6 6 3 4 6 6 6 4 6 6 1 6 6 2 6 6 1 4 6 4 4 4 6 6 6 6 6 1\n",
      " 6 6 6 6 2 6 6 6 6 6 6 6 1 3 6 6 6 6 6 6 2 1 6 6 6 6 1 6 6 2 6 6 6 6 3 1 6\n",
      " 2 6 1 6 6 5 6 4 2 3 4 5 2 2 6 6 6 6 6 6 6 6 6 6 6 6 2 6 5 6 6 6 6 6 5 6 6\n",
      " 5 6 5 6 6 1 2 4 4 6 6 2 1 2 4 1 6 3 6 6 3 6 4 5 6 5 5 6 6 3 1 6 6 6 1 3 6\n",
      " 6 6 6 3 6 6 6 5 6 6 2 6 6 6 6 2 6 1 6 6 6 6 6 1 6 6 2 6 6 6 5 6 6 6 6 6 6\n",
      " 6 6 2 2 1 1 1 6 6 5 3 3 1 6 5 6 6 3 3 6 6 4 3 6 6 6 2 6 6 6 4 2 6 6 6 6 6\n",
      " 3 6 5 6 5 6 6 2 6 5 6 6 6 2 6 6 6 3 6 6 6 3 2 6 6 6 2 6 4 2 6 3 4 4 6 6 6\n",
      " 6 6 6 6 1 4 6 5 6 6 4 6 5 2 6 6 6 6 6 6 4 6 1 6 4 5 5 6 2 5 6 3 2 6 6 6 6\n",
      " 1 6 2 6 2 6 6 3 2 6 5 6 6 2 2 6 6 4 5 5 6 1 6 5 2 6 1 5 6 6 6 6 1 6 6 3 2\n",
      " 4 6 6 6 4 6 1 6 3 1 3 4 6 5 6 6 6 5 6 6 5 6 6 6 2 2 1 6 5 6 6 5 6 5 6 3 6\n",
      " 6 6 4 6 6 2 2 2 6 6 6 6 6 5 4 6 1 6 6 4 4 5 6 6 3 6 6 6 1 5 4 6 1 2 6 1 3\n",
      " 5]\n"
     ]
    }
   ],
   "source": [
    "print(muestras_dado_cargado.mean(), muestras_dado_cargado)\n"
   ]
  },
  {
   "cell_type": "code",
   "execution_count": null,
   "metadata": {},
   "outputs": [],
   "source": []
  }
 ],
 "metadata": {
  "kernelspec": {
   "display_name": "Python 3",
   "language": "python",
   "name": "python3"
  },
  "language_info": {
   "codemirror_mode": {
    "name": "ipython",
    "version": 3
   },
   "file_extension": ".py",
   "mimetype": "text/x-python",
   "name": "python",
   "nbconvert_exporter": "python",
   "pygments_lexer": "ipython3",
   "version": "3.6.5"
  }
 },
 "nbformat": 4,
 "nbformat_minor": 2
}
